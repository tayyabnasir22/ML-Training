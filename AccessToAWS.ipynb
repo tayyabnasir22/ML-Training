{
 "cells": [
  {
   "cell_type": "markdown",
   "metadata": {},
   "source": [
    "#### Requirements:\n",
    "- boto3 pytohn package\n",
    "- IAM ser credential, Access Key, and Secret\n",
    "- Change Region accordingly"
   ]
  },
  {
   "cell_type": "code",
   "execution_count": null,
   "metadata": {},
   "outputs": [],
   "source": [
    "import boto3\n",
    "\n",
    "import json\n",
    " \n",
    "endpoint = 'sagemaker-scikit-learn-2024-02-18-06-10-29-973'\n",
    " \n",
    "runtime = boto3.Session().client('sagemaker-runtime', region_name='us-east-1',aws_access_key_id='YOUR ACCESS ID',\n",
    "         aws_secret_access_key= 'YOUR AWS ACCESS KEY')\n",
    " \n",
    "value1 = {'input':[\"Barack/NNP Obama/NNP will/MD be/VB visiting/VBG Lahore/NNP Pakistan/NNP in/IN 2024/CD for/IN Chess/NNP competition/NN\"]}\n",
    "data = json.dumps(value1)\n",
    "\n",
    "response = runtime.invoke_endpoint(EndpointName=endpoint, ContentType='application/json', Body=data)\n",
    "\n",
    "# Unpack response\n",
    "result = json.loads(response['Body'].read().decode())"
   ]
  },
  {
   "cell_type": "code",
   "execution_count": null,
   "metadata": {},
   "outputs": [],
   "source": [
    "\n",
    "input_text = \"My name is Wolfgang and I live in Berlin\"\n",
    "newline, bold, unbold = '\\n', '\\033[1m', '\\033[0m'\n",
    "endpoint_name = 'jumpstart-dft-distilbert-uncased-co-20240218-114220'\n",
    "def query_endpoint(encoded_text):\n",
    "    client = boto3.Session().client('sagemaker-runtime', region_name='us-east-1',aws_access_key_id='YOUR ACCESS ID',\n",
    "         aws_secret_access_key= 'YOUR AWS ACCESS KEY')\n",
    "    response = client.invoke_endpoint(EndpointName=endpoint_name, ContentType='application/x-text', Body=encoded_text)\n",
    "    return response\n",
    "\n",
    "def parse_response(query_response):\n",
    "    model_predictions = json.loads(query_response['Body'].read())\n",
    "    predictions = model_predictions['predictions']\n",
    "    return predictions\n",
    "\n",
    "\n",
    "try:\n",
    "    query_response= query_endpoint(input_text.encode('utf-8'))\n",
    "except Exception as e:\n",
    "    if e.response['Error']['Code'] == 'ModelError':\n",
    "        raise Exception(\n",
    "             \"Backend scripts have been updated in Feb '22 to standardize response \"\n",
    "             \"format of endpoint response.\"\n",
    "             \"Previous endpoints may not support verbose response type used in this notebook.\"\n",
    "             f\"To use this notebook, please launch the endpoint again. Error: {e}.\"\n",
    "        )\n",
    "    else:\n",
    "        raise\n",
    "        \n",
    "try:\n",
    "    model_predictions = parse_response(query_response)\n",
    "except (TypeError, KeyError) as e:\n",
    "    raise Exception(\n",
    "          \"Backend scripts have been updated in Feb '22 to standardize response \"\n",
    "          \"format of endpoint response.\"\n",
    "           \"Response from previous endpoints not consistent with this notebook.\"\n",
    "           f\"To use this notebook, please launch the endpoint again. Error: {e}.\"\n",
    "   )\n",
    "\n",
    "print (f\"Inference:{newline}\"\n",
    "        f\"input text: {input_text}{newline}\"\n",
    "        f\"model prediction: {bold}{model_predictions}{unbold}{newline}\")"
   ]
  },
  {
   "cell_type": "code",
   "execution_count": null,
   "metadata": {},
   "outputs": [],
   "source": []
  }
 ],
 "metadata": {
  "kernelspec": {
   "display_name": "env",
   "language": "python",
   "name": "python3"
  },
  "language_info": {
   "codemirror_mode": {
    "name": "ipython",
    "version": 3
   },
   "file_extension": ".py",
   "mimetype": "text/x-python",
   "name": "python",
   "nbconvert_exporter": "python",
   "pygments_lexer": "ipython3",
   "version": "3.11.3"
  }
 },
 "nbformat": 4,
 "nbformat_minor": 2
}
